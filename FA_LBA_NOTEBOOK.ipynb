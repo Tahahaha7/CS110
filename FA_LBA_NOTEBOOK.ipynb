{
 "cells": [
  {
   "cell_type": "markdown",
   "metadata": {
    "collapsed": false
   },
   "source": [
    "# Formal Analyses Location-Based Assignment"
   ]
  },
  {
   "cell_type": "code",
   "execution_count": 0,
   "metadata": {
    "collapsed": false
   },
   "outputs": [
   ],
   "source": [
   ]
  },
  {
   "cell_type": "markdown",
   "metadata": {
    "collapsed": false
   },
   "source": [
    "## Part 1: Variable Selection"
   ]
  },
  {
   "cell_type": "markdown",
   "metadata": {
    "collapsed": false
   },
   "source": [
    "Select a neighborhood in San Francisco. Visit this neighborhood and spend at least 30 minutes exploring the neighborhood to find your variable. Important notes:\n",
    "\n",
    "- The variable must be something that can be measured on each block in a specific 10 block area. This means you need at least 10 different measurements (one for each block).\n",
    "\n",
    "- You must be able to calculate the mean, median, mode, and standard deviation of the variable.\n",
    "\n",
    "- You need to confer with your future partner about variable and location selection. In the next assignment, Correlation and Regression, you will choose a new 10 block area in the city and repeat the measurements of your variables to see if there is a correlation between your variables in the new chosen neighbourhood.\n",
    "\n",
    "- Get creative (#creativeheuristics)! Try to choose an interesting and informative variable (not coffee). Ideally, try to choose variables with your partner for which the analysis in the next assignment will be rich."
   ]
  },
  {
   "cell_type": "markdown",
   "metadata": {
    "collapsed": false
   },
   "source": [
    "### 1.1 Define and operationalize your variable here. Describe how you selected your variable. Specifically identify if you will be measuring a total, ratio, or average. Specifically identify the units it will be measured in and how it will be measured. Give the address of the 10 blocks where you will conduct your measurement. [#variables]"
   ]
  },
  {
   "cell_type": "markdown",
   "metadata": {
    "collapsed": false
   },
   "source": [
    "The variable I have chosen is hydrants. Hydrants are important to combat possible fires and guarantee safety. The earthquake that happened in 1906 in San Francisco provoked my curiosity to understand what was the appropriate number of hydrants that the city decided to implant in each neighborhood to guarantee safety. I will measure the total number of hydrants from all the intersections on California Street from Mason Street to Davis Street. The units used in this assignment is hydrants.\n",
    "The addresses of my study are block 1 – From 976 California Street to 898 California Street; block 2 – From 898 California Street to 799 California Street; block 3 – From 799 California Street to 699 California Street; block 4 – From 699 California Street to 589 California Street;  block 5 – From 589 California Street to 500 California Street; block 6 – From 500 California Street to 401 California Street; block 7 – From 401 California Street to 301 California Street; block 8 – From 258 California Street to 200 California Street; block 9 – From 200 California Street to 101 California Street; block 10 – From 101 California Street to 15 California Street.\n"
   ]
  },
  {
   "cell_type": "markdown",
   "metadata": {
    "collapsed": false
   },
   "source": [
    "### 1.2.1 Describe a scenario in which your variable could be an independent variable. What could be the dependent variable(s)? What are some possible hidden or confounding variables in this scenario? Draw a graph to represent what you believe could be the relationship between your independent variable and your dependent variable of choice. (<150 words) [#variables]"
   ]
  },
  {
   "cell_type": "markdown",
   "metadata": {
    "collapsed": false
   },
   "source": [
    "In a scenario where the safety of the citizens in case of fire is related to the number of hydrants, the hydrants are the independent variable whereas the dependent variable is the safety of people, because when a neighborhood has a big number of hydrants the safety of those people who circulate the region is bigger. A possible confounding variable is the number of firefighters available in the city, because when the number of firefighters is proportionally low there will not be enough firefighters to operate the hydrants, therefore the number hydrants is less relevant. The possible behavior of the graph evolves linearly once the number of hydrants is directly related to the percentage of fire safety."
   ]
  },
  {
   "cell_type": "code",
   "execution_count": 8,
   "metadata": {
    "collapsed": false
   },
   "outputs": [
    {
     "data": {
      "image/png": "[encoded data removed]"
     }
    }
   ],
   "source": [
    "from IPython.display import Image\n",
    "Image(\"2017-10-22 (2).png\")"
   ]
  },
  {
   "cell_type": "code",
   "execution_count": 0,
   "metadata": {
    "collapsed": false
   },
   "outputs": [
   ],
   "source": [
   ]
  },
  {
   "cell_type": "markdown",
   "metadata": {
    "collapsed": false
   },
   "source": [
    "### 1.2.2 Describe a scenario in which your variable could be a dependent variable. What could be the independent variable(s)? What are some possible hidden or confounding variables in this scenario? Draw a graph to represent what you believe could be the relationship between your independent variable and your dependent variable of choice. (< 150 words) [#variables]"
   ]
  },
  {
   "cell_type": "markdown",
   "metadata": {
    "collapsed": false
   },
   "source": [
    "In a second scenario where the number of hydrants is related with the height of buildings in a block, the number of hydrants is affected by the height of buildings, because it will be only installed in a bigger number of hydrants if the buildings are very tall which is related to the occupancy of people, so that the height of it is the independent variable and the number of hydrants is the dependent variable. In this case, a possible confounding variable would be a scenario where the number of hydrants isn’t only related to the height of buildings, but also to the hydraulic capacity of the system. So, even if we had tall buildings, but poor hydraulic capacity we would still have a low number of hydrants. In this case, the possible behavior of the graph is to evolve linearly until 25 stories, after that the behavior stabilizes."
   ]
  },
  {
   "cell_type": "code",
   "execution_count": 9,
   "metadata": {
    "collapsed": false
   },
   "outputs": [
    {
     "data": {
      "image/png": "[encoded data removed]"
     }
    }
   ],
   "source": [
    "from IPython.display import Image\n",
    "Image(\"2017-10-22 (3).png\")\n"
   ]
  },
  {
   "cell_type": "markdown",
   "metadata": {
    "collapsed": false
   },
   "source": [
    "## Part 2: Estimation and Measurement"
   ]
  },
  {
   "cell_type": "markdown",
   "metadata": {
    "collapsed": false
   },
   "source": [
    "### 2.1 Go to a Cafe in the neighborhood of your choice to produce a Fermi estimate of your variable. Use a napkin at a cafe to begin your Fermi estimate. You may not (yet) make any measurements. Your estimate should aim to involve at least 5 steps where you compute intermediate values. Describe each step clearly, and show your work. Take a photo of your “back of the napkin” estimate, then typeset your full estimation in the Python notebook, in LaTex or a similar markup language. Upload a photo of your napkin here. [#estimation]"
   ]
  },
  {
   "cell_type": "markdown",
   "metadata": {
    "collapsed": false
   },
   "source": [
    "1. There are 4 buildings/block. Two buildings in front of the street analyzed to the right side and two to the left side. The others are behind these buildings in another street.\n",
    "2. More than 80% of buildings have more than 15 floors.\n",
    "3. All the buildings with at least 15 floors have own hydrants.\n",
    "4. 70% of buildings with 15 floors or more have 2 own hydrants.\n",
    "5. There are on average 4 hydrants on the street.\n",
    "6. 40 buildings in 10 blocks x 2 sides = 80 buildings.\n",
    "7. 80 -> 100%\n",
    "   x  -> 80%\n",
    "   x = 64 buildings have al least 1 own hydrant.\n",
    "8. 64 -> 100%\n",
    "   w  -> 70%\n",
    "   w = 45 buildings have 2 hydrants.\n",
    "9. 45 buildings have 2 hydrants and 19 have 1 hydrant in 10 blocks for both sides.\n",
    "   45 buildings/ 2 is approximately 23 buildings with 2 hydrants\n",
    "   19 buildings/ 2 is approximately 9 buildings with 1 hydrant.\n",
    "10. 40 hydrants on the street in 10 blocks + 55 hydrants = 95 hydrants in 10 blocks/both sides considering 2 buildings that are placed on the street analyzed."
   ]
  },
  {
   "cell_type": "code",
   "execution_count": 10,
   "metadata": {
    "collapsed": false
   },
   "outputs": [
    {
     "data": {
      "image/jpeg": "[encoded data removed]"
     }
    }
   ],
   "source": [
    "from IPython.display import Image\n",
    "Image(\"fermi.jpg\")"
   ]
  },
  {
   "cell_type": "markdown",
   "metadata": {
    "collapsed": false
   },
   "source": [
    "### 2.2 Write a short set of specific instructions for collecting your data, describing your variable and how/where to measure it. Imagine you were giving these instructions to another student. [#algorithms]"
   ]
  },
  {
   "cell_type": "markdown",
   "metadata": {
    "collapsed": false
   },
   "source": [
    "1. You need to go to the street analyzed.\n",
    "2. Identify the average of how many buildings those blocks have.\n",
    "3. Establish the average of floors that those buildings on that street have.\n",
    "4. Estimate how many hydrants there are on the street based on the size of those buildings and the hydraulic capacity of the neighborhood.\n",
    "5. Identify an average of it.\n",
    "6. Considering all the average of buildings for block you need to visualize how many buildings have at least 1 own hydrant.\n",
    "7. Visualize how many buildings have more than 1 hydrant.\n",
    "8. After that you finding a possible estimation for those 10 intire blocks surrouding the street, reduce it for the street that you want to analyze.\n",
    "9. Reduce the study for the half once there are 2 buildings for each side in front of the street that you are analyzing.\n",
    "10. The result of it sum with the average of hydrants on the street."
   ]
  },
  {
   "cell_type": "markdown",
   "metadata": {
    "collapsed": false
   },
   "source": [
    "### 2.3 Go collect your data!\n",
    "\n",
    "Use any method to import your collected data into Python. For example, put the data in a google sheet, export to a .cvs file, and import into Python. You can also just type the data directly into a Python list or numpy array. Clearly label your data columns and rows.  Print the data here.\n",
    "\n",
    "Using Python, calculate the mean, median, range, and standard deviation of your variable. Print these values. If you use a library function, you need to explain how it works with detailed comments. Do not blindly use library functions. [#algorithms]\n"
   ]
  },
  {
   "cell_type": "code",
   "execution_count": 7,
   "metadata": {
    "collapsed": false
   },
   "outputs": [
    {
     "name": "stdout",
     "output_type": "stream",
     "text": [
      "9.4\n",
      "10.0\n",
      "2.4585451886114367\n"
     ]
    }
   ],
   "source": [
    "print(statistics.mean([8,5,11,11,9,13,10,10,11,6])) #The code here is adding all the elements of the list and dividing them by the number of elements in the list.\n",
    "print(statistics.median([8,5,11,11,9,13,10,10,11,6])) #The code here counts all the elements of the list and chooses the first element after the first half of the elements in the list. Because my list has an even number of elements, the code sums the two elements in the middle and and divide by to, the mean of these two is the median of the list.\n",
    "print(statistics.stdev([8,5,11,11,9,13,10,10,11,6])) #The code here counts all the elements of the list and chooses the first element after the first half of the elements in the list. Because my list has an even number of elements, the code sums the two elements in the middle and and divide by to, the mean of these two is the median of the list."
   ]
  },
  {
   "cell_type": "markdown",
   "metadata": {
    "collapsed": false
   },
   "source": [
    "### 2.4 Interpret the descriptive stats you found in 2. What can you say about the neighborhood based on these values? Is the distribution skewed? Explain how you can determine this using descriptive stats, and what it might mean about the neighborhood. [#descriptivestats]"
   ]
  },
  {
   "cell_type": "markdown",
   "metadata": {
    "collapsed": false
   },
   "source": [
    "The values confirm the regulation I've learned from my research in the city, places where there are bigger buildings and higher hydraulic capacity have more hydrant's systems. Whereas a residential neighborhood has on average between 2 or 3 hydrants per block, California Street between Nob Hill and Financial District has on average 9.4 hydrants per block. In addition, there is a relative small difference between mean and median, in this case, mean is lower than median, so that the graph is left-skewed, it means that the number of hydrants tend to be closer to the high number of it. By knwowing how to calculate the mean, median, and mode I can interpret correctely the data that I have, for example, all those data can help to understand what is the possible hydrant's system in the neighborhood, as a proof, the mean shows that the neighborhood has more structure than others, the relationship between mean and median shows that, though there is a difference of number of hydrants per block, the discrepancy isn't big. "
   ]
  },
  {
   "cell_type": "markdown",
   "metadata": {
    "collapsed": false
   },
   "source": [
    "### 2.5 Create a data visualization of your data, properly formatting your figure. Is your visualization in agreement with your answers in part 3? Explain. [#dataviz, #descriptivestats]"
   ]
  },
  {
   "cell_type": "code",
   "execution_count": 6,
   "metadata": {
    "collapsed": false
   },
   "outputs": [
    {
     "data": {
      "image/png": "[encoded data removed]"
     }
    }
   ],
   "source": [
    "from IPython.display import Image\n",
    "Image(\"2017-10-24.png\")"
   ]
  },
  {
   "cell_type": "code",
   "execution_count": 0,
   "metadata": {
    "collapsed": false
   },
   "outputs": [
   ],
   "source": [
   ]
  },
  {
   "cell_type": "markdown",
   "metadata": {
    "collapsed": false
   },
   "source": [
    "# Part 3: Reflection"
   ]
  },
  {
   "cell_type": "markdown",
   "metadata": {
    "collapsed": false
   },
   "source": [
    "### 3.1 Journaling: After taking a break, write a short reflection paragraph (no more than 200 words) about the HCs used in this assignment. What did you learn about the connection between #variables, #estimation, and #descriptivestats in this assignment?"
   ]
  },
  {
   "cell_type": "markdown",
   "metadata": {
    "collapsed": false
   },
   "source": [
    "What I've learned in this assignment is how to apply #estimation in our daily activity. For example, how many hydrants there are in the neighborhood or how much gas a car spends until Las Vegas. By identifying the #variables we can understand the relationship between them into the context that we want to analyze. Also, how we can transform data in numbers #algorithms and plot it in graphics in a way that readers can understand it, even without being experts, that's why #dataviz is so important. It will be possible by identifying three main points: mean, median, and mode, by doing such thing we are able to create the standard deviation and interpret the graphic. The process requests a deep processing to calculate and interpret descriptive statistics #descriptivestats."
   ]
  }
 ],
 "metadata": {
  "kernelspec": {
   "display_name": "Python 3 (Anaconda)",
   "language": "python",
   "name": "anaconda3"
  },
  "language_info": {
   "codemirror_mode": {
    "name": "ipython",
    "version": 3
   },
   "file_extension": ".py",
   "mimetype": "text/x-python",
   "name": "python",
   "nbconvert_exporter": "python",
   "pygments_lexer": "ipython3",
   "version": "3.5.4"
  }
 },
 "nbformat": 4,
 "nbformat_minor": 0
}